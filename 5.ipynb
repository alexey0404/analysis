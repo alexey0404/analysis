{
 "cells": [
  {
   "cell_type": "code",
   "execution_count": 1,
   "id": "77196003",
   "metadata": {},
   "outputs": [
    {
     "name": "stdout",
     "output_type": "stream",
     "text": [
      "6.0\n"
     ]
    }
   ],
   "source": [
    "import pandas as pd\n",
    "import numpy as np\n",
    "from sklearn.datasets import make_circles\n",
    "from sklearn.svm import SVC\n",
    "from sklearn.metrics import accuracy_score\n",
    "from sklearn.model_selection import train_test_split\n",
    "from sklearn.metrics import confusion_matrix, plot_roc_curve\n",
    "import seaborn as sns\n",
    "import matplotlib.pyplot as plt\n",
    "from sklearn.model_selection import train_test_split\n",
    "from sklearn.linear_model import LinearRegression, Ridge, RidgeCV, Lasso, LassoCV, LogisticRegression\n",
    "\n",
    "S = 0\n",
    "\n",
    "for i in range(10000):\n",
    "    X1 = pd.DataFrame(np.random.normal(loc=0, size=(10, 2)))\n",
    "    X2 = pd.DataFrame(np.random.normal(loc=0, size=(10, 2)))\n",
    "    X1['m'] = 0\n",
    "    X2['m'] = 1\n",
    "    X = pd.concat([X1,X2])\n",
    "    Y = X['m']\n",
    "    X = X.drop('m', axis=1)\n",
    "    X_train, X_test, y_train, y_test = train_test_split(X, Y, stratify=Y, test_size=0.2, random_state=17)\n",
    "    model = LogisticRegression(penalty=\"none\")\n",
    "    model.fit(X_train, y_train)\n",
    "    k = accuracy_score(model.predict(X_test), y_test)\n",
    "    if k == 1:\n",
    "        S += 1\n",
    "\n",
    "        \n",
    "ans = S /100\n",
    "print(ans)\n"
   ]
  },
  {
   "cell_type": "code",
   "execution_count": null,
   "id": "0e41503f",
   "metadata": {},
   "outputs": [],
   "source": []
  },
  {
   "cell_type": "code",
   "execution_count": null,
   "id": "b6d52d5d",
   "metadata": {},
   "outputs": [],
   "source": []
  }
 ],
 "metadata": {
  "kernelspec": {
   "display_name": "Python 3",
   "language": "python",
   "name": "python3"
  },
  "language_info": {
   "codemirror_mode": {
    "name": "ipython",
    "version": 3
   },
   "file_extension": ".py",
   "mimetype": "text/x-python",
   "name": "python",
   "nbconvert_exporter": "python",
   "pygments_lexer": "ipython3",
   "version": "3.7.4"
  }
 },
 "nbformat": 4,
 "nbformat_minor": 5
}
